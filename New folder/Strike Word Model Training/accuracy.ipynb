{
 "cells": [
  {
   "cell_type": "code",
   "execution_count": 1,
   "id": "8bf81d0c",
   "metadata": {},
   "outputs": [
    {
     "name": "stderr",
     "output_type": "stream",
     "text": [
      "C:\\Users\\USER\\AppData\\Local\\Programs\\Python\\Python310\\lib\\site-packages\\tqdm\\auto.py:21: TqdmWarning: IProgress not found. Please update jupyter and ipywidgets. See https://ipywidgets.readthedocs.io/en/stable/user_install.html\n",
      "  from .autonotebook import tqdm as notebook_tqdm\n"
     ]
    },
    {
     "name": "stdout",
     "output_type": "stream",
     "text": [
      "WARNING:tensorflow:From C:\\Users\\USER\\AppData\\Local\\Programs\\Python\\Python310\\lib\\site-packages\\keras\\src\\losses.py:2976: The name tf.losses.sparse_softmax_cross_entropy is deprecated. Please use tf.compat.v1.losses.sparse_softmax_cross_entropy instead.\n",
      "\n"
     ]
    }
   ],
   "source": [
    "import os\n",
    "import cv2\n",
    "import numpy as np\n",
    "import torch\n",
    "from transformers import ViTImageProcessor, ViTForImageClassification, Trainer\n",
    "from datasets import Dataset\n",
    "from sklearn.metrics import accuracy_score"
   ]
  },
  {
   "cell_type": "code",
   "execution_count": 2,
   "id": "a203d3bb",
   "metadata": {},
   "outputs": [],
   "source": [
    "# Load the fine-tuned model\n",
    "from transformers import ViTForImageClassification\n",
    "\n",
    "model_directory = \"vit-base-beans\"# Path to the fine-tuned model\n",
    "model = ViTForImageClassification.from_pretrained(model_directory)\n",
    "\n"
   ]
  },
  {
   "cell_type": "code",
   "execution_count": 5,
   "id": "dea29236",
   "metadata": {},
   "outputs": [],
   "source": [
    "def get_images(path):\n",
    "    image_path = []\n",
    "    struck = []\n",
    "    for i in os.listdir(path):\n",
    "        for j in os.listdir(os.path.join(path, i)):\n",
    "            if j == \".ipynb_checkpoints\":\n",
    "                continue\n",
    "            image_path.append(os.path.join(path, i, j))\n",
    "            struck.append(1 if i == \"struck\" else 0)\n",
    "    return image_path, struck"
   ]
  },
  {
   "cell_type": "code",
   "execution_count": 6,
   "id": "ec5e758f",
   "metadata": {},
   "outputs": [],
   "source": [
    "validation_path = \"4765063/validation/validation\""
   ]
  },
  {
   "cell_type": "code",
   "execution_count": 7,
   "id": "0a60e7c2",
   "metadata": {},
   "outputs": [],
   "source": [
    "validation_image_path, validation_struck = get_images(validation_path)"
   ]
  },
  {
   "cell_type": "code",
   "execution_count": 8,
   "id": "73df2296",
   "metadata": {},
   "outputs": [],
   "source": [
    "def image_preprocessing(image_path):\n",
    "    images = []\n",
    "    for i in image_path:\n",
    "        img = cv2.imread(i)\n",
    "        gray_image = cv2.cvtColor(img, cv2.COLOR_BGR2GRAY)\n",
    "        _, binary_image = cv2.threshold(gray_image, 200, 255, cv2.THRESH_BINARY)\n",
    "        binary_image = cv2.resize(binary_image, (224, 224))\n",
    "        binary_image = cv2.merge([binary_image, binary_image, binary_image])\n",
    "        binary_image = binary_image / 255\n",
    "        binary_image = torch.from_numpy(binary_image)\n",
    "        images.append(binary_image)\n",
    "    return images"
   ]
  },
  {
   "cell_type": "code",
   "execution_count": 9,
   "id": "02f6780b",
   "metadata": {},
   "outputs": [],
   "source": [
    "# Prepare the validation dataset\n",
    "validation_images = image_preprocessing(validation_image_path)\n",
    "validation_images = torch.stack(validation_images)\n",
    "validation_images = validation_images.permute(0, 3, 1, 2)"
   ]
  },
  {
   "cell_type": "code",
   "execution_count": 10,
   "id": "eac5f448",
   "metadata": {},
   "outputs": [],
   "source": [
    "validation = {\n",
    "    'image': validation_images,\n",
    "    'label': validation_struck\n",
    "}"
   ]
  },
  {
   "cell_type": "code",
   "execution_count": 11,
   "id": "b311e86b",
   "metadata": {},
   "outputs": [],
   "source": [
    "validation_dataset = Dataset.from_dict(validation)"
   ]
  },
  {
   "cell_type": "code",
   "execution_count": 12,
   "id": "ebac61a9",
   "metadata": {},
   "outputs": [
    {
     "data": {
      "text/plain": [
       "2"
      ]
     },
     "execution_count": 12,
     "metadata": {},
     "output_type": "execute_result"
    }
   ],
   "source": [
    "len(validation_dataset[0])"
   ]
  },
  {
   "cell_type": "code",
   "execution_count": null,
   "id": "552e8107",
   "metadata": {},
   "outputs": [],
   "source": []
  },
  {
   "cell_type": "code",
   "execution_count": 16,
   "id": "b04f4d52",
   "metadata": {},
   "outputs": [],
   "source": [
    "def collate_fn(batch):\n",
    "    pixel_values = torch.stack([torch.from_numpy(np.array(item['image'])) for item in batch])\n",
    "    labels = torch.tensor([item['label'] for item in batch])\n",
    "    return {'pixel_values': pixel_values, 'labels': labels}"
   ]
  },
  {
   "cell_type": "code",
   "execution_count": null,
   "id": "a22d7c2d",
   "metadata": {},
   "outputs": [],
   "source": []
  },
  {
   "cell_type": "code",
   "execution_count": 17,
   "id": "17af3e0f",
   "metadata": {},
   "outputs": [],
   "source": [
    "# Create a Trainer instance for evaluation\n",
    "from transformers import TrainingArguments"
   ]
  },
  {
   "cell_type": "code",
   "execution_count": 18,
   "id": "bb8cb43e",
   "metadata": {},
   "outputs": [],
   "source": [
    "training_args = TrainingArguments(\n",
    "    output_dir=\"./vit-base-eval\",\n",
    "    per_device_eval_batch_size=16,\n",
    "    remove_unused_columns=False,\n",
    "    push_to_hub=False,\n",
    ")"
   ]
  },
  {
   "cell_type": "code",
   "execution_count": 19,
   "id": "9ab4d60a",
   "metadata": {},
   "outputs": [],
   "source": [
    "trainer = Trainer(\n",
    "    model=model,\n",
    "    args=training_args,\n",
    "    data_collator=collate_fn,\n",
    "    eval_dataset=validation_dataset,\n",
    ")"
   ]
  },
  {
   "cell_type": "code",
   "execution_count": 20,
   "id": "8544ece4",
   "metadata": {},
   "outputs": [
    {
     "data": {
      "text/html": [],
      "text/plain": [
       "<IPython.core.display.HTML object>"
      ]
     },
     "metadata": {},
     "output_type": "display_data"
    }
   ],
   "source": [
    "# Evaluate on the validation dataset\n",
    "predictions = trainer.predict(validation_dataset)\n"
   ]
  },
  {
   "cell_type": "code",
   "execution_count": 21,
   "id": "af2db1f5",
   "metadata": {},
   "outputs": [],
   "source": [
    "# Convert logits to predicted labels\n",
    "predicted_labels = np.argmax(predictions.predictions, axis=1)\n"
   ]
  },
  {
   "cell_type": "code",
   "execution_count": 22,
   "id": "0ce8e239",
   "metadata": {},
   "outputs": [],
   "source": [
    "# Ground truth labels\n",
    "true_labels = np.array(validation_struck)\n"
   ]
  },
  {
   "cell_type": "code",
   "execution_count": 23,
   "id": "fc0c6d3d",
   "metadata": {},
   "outputs": [],
   "source": [
    "# Calculate accuracy\n",
    "accuracy = accuracy_score(true_labels, predicted_labels)\n",
    "\n"
   ]
  },
  {
   "cell_type": "code",
   "execution_count": 24,
   "id": "5d466f99",
   "metadata": {},
   "outputs": [
    {
     "name": "stdout",
     "output_type": "stream",
     "text": [
      "Validation Accuracy: 0.9960\n"
     ]
    }
   ],
   "source": [
    "print(f\"Validation Accuracy: {accuracy:.4f}\")"
   ]
  },
  {
   "cell_type": "code",
   "execution_count": null,
   "id": "2d098bc6",
   "metadata": {},
   "outputs": [],
   "source": []
  },
  {
   "cell_type": "code",
   "execution_count": null,
   "id": "a7f60276",
   "metadata": {},
   "outputs": [],
   "source": []
  },
  {
   "cell_type": "code",
   "execution_count": null,
   "id": "81d4a76d",
   "metadata": {},
   "outputs": [],
   "source": []
  },
  {
   "cell_type": "code",
   "execution_count": null,
   "id": "f957b4ea",
   "metadata": {},
   "outputs": [],
   "source": []
  },
  {
   "cell_type": "code",
   "execution_count": null,
   "id": "6761b06d",
   "metadata": {},
   "outputs": [],
   "source": []
  }
 ],
 "metadata": {
  "kernelspec": {
   "display_name": "Python 3 (ipykernel)",
   "language": "python",
   "name": "python3"
  },
  "language_info": {
   "codemirror_mode": {
    "name": "ipython",
    "version": 3
   },
   "file_extension": ".py",
   "mimetype": "text/x-python",
   "name": "python",
   "nbconvert_exporter": "python",
   "pygments_lexer": "ipython3",
   "version": "3.10.8"
  }
 },
 "nbformat": 4,
 "nbformat_minor": 5
}
